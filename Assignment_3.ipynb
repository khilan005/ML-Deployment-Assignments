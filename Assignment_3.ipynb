{
 "cells": [
  {
   "cell_type": "markdown",
   "metadata": {},
   "source": [
    "# Task 1\n",
    "1. Write a function to compute 5/0 and use try/except to catch the exceptions"
   ]
  },
  {
   "cell_type": "code",
   "execution_count": 1,
   "metadata": {},
   "outputs": [
    {
     "name": "stdout",
     "output_type": "stream",
     "text": [
      "<class 'ZeroDivisionError'>  Error: ANY NUMBERS ARE DIVIDED BY ZERO!\n"
     ]
    }
   ],
   "source": [
    "import sys\n",
    "def divide():\n",
    "    return 5/0\n",
    "\n",
    "try:\n",
    "    divide()\n",
    "except ZeroDivisionError:\n",
    "    print(sys.exc_info()[0],\" Error: ANY NUMBERS ARE DIVIDED BY ZERO!\")"
   ]
  },
  {
   "cell_type": "markdown",
   "metadata": {},
   "source": [
    "2. Implement a Python program to generate all sentences where subject is in [\"Americans\",\n",
    "\"Indians\"] and verb is in [\"Play\", \"watch\"] and the object is in [\"Baseball\",\"cricket\"]."
   ]
  },
  {
   "cell_type": "code",
   "execution_count": 2,
   "metadata": {},
   "outputs": [
    {
     "name": "stdout",
     "output_type": "stream",
     "text": [
      "Americans Play Baseball. \n",
      "Americans Play cricket. \n",
      "Americans watch Baseball. \n",
      "Americans watch cricket. \n",
      "Indians Play Baseball. \n",
      "Indians Play cricket. \n",
      "Indians watch Baseball. \n",
      "Indians watch cricket. \n"
     ]
    }
   ],
   "source": [
    "subject=[\"Americans\", \"Indians\"]\n",
    "verb=[\"Play\", \"watch\"]\n",
    "obj=[\"Baseball\",\"cricket\"]\n",
    "\n",
    "# Use list comprehension instead of looping over each of the predicates\n",
    "sentence_list = [(sub+\" \"+ vb + \" \" + ob + \". \") for sub in subject for vb in verb for ob in obj]\n",
    "for sentence in sentence_list:\n",
    "    print (sentence)\n"
   ]
  },
  {
   "cell_type": "markdown",
   "metadata": {},
   "source": [
    "# Task 2:\n",
    "1.Write a function so that the columns of the output matrix are powers of the input vector.\n",
    "The order of the powers is determined by the increasing boolean argument. Specifically, when\n",
    "increasing is False, the i-th output column is the input vector raised element-wise to the power\n",
    "of N - i - 1."
   ]
  },
  {
   "cell_type": "code",
   "execution_count": 3,
   "metadata": {},
   "outputs": [
    {
     "data": {
      "text/plain": [
       "array([[    1,     1,     1,     1,     1,     1,     1],\n",
       "       [   64,    32,    16,     8,     4,     2,     1],\n",
       "       [  729,   243,    81,    27,     9,     3,     1],\n",
       "       [ 4096,  1024,   256,    64,    16,     4,     1],\n",
       "       [15625,  3125,   625,   125,    25,     5,     1],\n",
       "       [46656,  7776,  1296,   216,    36,     6,     1]])"
      ]
     },
     "execution_count": 3,
     "metadata": {},
     "output_type": "execute_result"
    }
   ],
   "source": [
    "import numpy as np\n",
    "def vander(x, N=None):\n",
    "    \"\"\"\n",
    "    \n",
    "    Generate a Van der Monde matrix.\n",
    "    The columns of the output matrix are decreasing powers of the input\n",
    "    vector.  Specifically, the `i`-th output column is the input vector\n",
    "    raised element-wise to the power of ``N - i - 1``.  Such a matrix with\n",
    "    a geometric progression in each row is named for Alexandre-Theophile\n",
    "    Vandermonde.\n",
    "    Parameters\n",
    "    \n",
    "    \"\"\"\n",
    "x = np.array([1,2,3,4,5,6])\n",
    "N = 7\n",
    "np.vander(x, N, increasing=False)"
   ]
  }
 ],
 "metadata": {
  "kernelspec": {
   "display_name": "Python 3",
   "language": "python",
   "name": "python3"
  },
  "language_info": {
   "codemirror_mode": {
    "name": "ipython",
    "version": 3
   },
   "file_extension": ".py",
   "mimetype": "text/x-python",
   "name": "python",
   "nbconvert_exporter": "python",
   "pygments_lexer": "ipython3",
   "version": "3.7.3"
  }
 },
 "nbformat": 4,
 "nbformat_minor": 2
}
